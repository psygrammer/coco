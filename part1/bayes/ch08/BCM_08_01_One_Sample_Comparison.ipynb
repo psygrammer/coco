{
 "cells": [
  {
   "cell_type": "markdown",
   "metadata": {},
   "source": [
    "###8.1 One-sample comparison\n",
    "Stanardized difference scores(ie., \"winter scores - summer scores\")\n",
    "\n",
    "The null hypothesis states that the mean of the diffence scores is equal to zero : H0 : u=0\n",
    "\n",
    "The alternative hypothesis states that the mean is not equal to zero : H1 : u <> 0"
   ]
  },
  {
   "cell_type": "code",
   "execution_count": 1,
   "metadata": {
    "collapsed": false
   },
   "outputs": [
    {
     "name": "stderr",
     "output_type": "stream",
     "text": [
      "Loading required package: rjags\n",
      "Loading required package: coda\n",
      "Linked to JAGS 3.4.0\n",
      "Loaded modules: basemod,bugs\n",
      "\n",
      "Attaching package: 'R2jags'\n",
      "\n",
      "The following object is masked from 'package:coda':\n",
      "\n",
      "    traceplot\n",
      "\n",
      "module glm loaded\n"
     ]
    },
    {
     "name": "stdout",
     "output_type": "stream",
     "text": [
      "Compiling model graph\n",
      "   Resolving undeclared variables\n",
      "   Allocating nodes\n",
      "   Graph Size: 55\n",
      "\n",
      "Initializing model\n",
      "\n"
     ]
    },
    {
     "data": {
      "image/png": "[encoded data removed]"
     },
     "metadata": {},
     "output_type": "display_data"
    }
   ],
   "source": [
    "options(jupyter.plot_mimetypes = 'image/png')\n",
    "# clears workspace:  \n",
    "rm(list=ls()) \n",
    "\n",
    "#JARS\n",
    "library(R2jags)\n",
    "\n",
    "# Read data Dr. Smith\n",
    "Winter = c(-0.05,0.41,0.17,-0.13,0.00,-0.05,0.00,0.17,0.29,0.04,0.21,0.08,0.37,0.17,0.08,-0.04,-0.04,0.04,-0.13,-0.12,0.04,0.21,0.17,\n",
    "            0.17,0.17,0.33,0.04,0.04,0.04,0.00,0.21,0.13,0.25,-0.05,0.29,0.42,-0.05,0.12,0.04,0.25,0.12)\n",
    "\n",
    "Summer = c(0.00,0.38,-0.12,0.12,0.25,0.12,0.13,0.37,0.00,0.50,0.00,0.00,-0.13,-0.37,-0.25,-0.12,0.50,0.25,0.13,0.25,0.25,0.38,0.25,0.12,\n",
    "            0.00,0.00,0.00,0.00,0.25,0.13,-0.25,-0.38,-0.13,-0.25,0.00,0.00,-0.12,0.25,0.00,0.50,0.00)\n",
    "\n",
    "x = Winter-Summer # allowed because it is a within-subjects design\n",
    "x = x/sd(x)       # standardize\n",
    "\n",
    "ndata = length(Winter) # number of subjects\n",
    "\n",
    "data  = list(\"x\", \"ndata\") # to be passed on to JAGS\n",
    "\n",
    "# inital value\n",
    "myinits <- list(\n",
    "  list(delta = rnorm(1,0,3), sigmatmp = rnorm(1,0,1)),\n",
    "  list(delta = rnorm(1,0,3), sigmatmp = rnorm(1,0,1)),\n",
    "  list(delta = rnorm(1,0,3), sigmatmp = rnorm(1,0,1)))\n",
    "\n",
    "# Parameters to be monitored\n",
    "parameters = c(\"delta\")\n",
    "\n",
    "# 1. Model\n",
    "# One-Sample Comparison of Means\n",
    "modelString = \"\n",
    "model{\n",
    "  # Data\n",
    "  for (i in 1:ndata){\n",
    "    x[i] ~ dnorm(mu,lambda)\n",
    "  } \n",
    "  mu <- delta*sigma\n",
    "  lambda <- pow(sigma,-2)\n",
    "  # delta and sigma Come From (Half) Cauchy Distributions\n",
    "  lambdadelta ~ dchisqr(1)\n",
    "  delta ~ dnorm(0,lambdadelta)\n",
    "  lambdasigma ~ dchisqr(1)\n",
    "  sigmatmp ~ dnorm(0,lambdasigma)\n",
    "  sigma <- abs(sigmatmp)\n",
    "  # Sampling from Prior Distribution for Delta\n",
    "  deltaprior ~ dnorm(0,lambdadeltaprior)\n",
    "  lambdadeltaprior ~ dchisqr(1)\n",
    "}\"\n",
    "\n",
    "# The following command calls JAGS with specific options.\n",
    "# For a detailed description see the R2jags documentation.\n",
    "samples = jags(data, inits=myinits, parameters, \n",
    "               model.file=textConnection(modelString),\n",
    "               n.chains=3, n.iter=10000, n.burnin=1000, n.thin=1, DIC=T)\n",
    "# Now the values for the monitored parameters are in the \"samples\" object, \n",
    "# ready for inspection.\n",
    "\n",
    "plot(samples)"
   ]
  },
  {
   "cell_type": "code",
   "execution_count": 2,
   "metadata": {
    "collapsed": false
   },
   "outputs": [
    {
     "data": {
      "text/html": [
       "6.01883947493315"
      ],
      "text/latex": [
       "6.01883947493315"
      ],
      "text/markdown": [
       "6.01883947493315"
      ],
      "text/plain": [
       "[1] 6.018839"
      ]
     },
     "execution_count": 2,
     "metadata": {},
     "output_type": "execute_result"
    }
   ],
   "source": [
    "# Collect posterior samples across all chains:\n",
    "delta.posterior = samples$BUGSoutput$sims.list$delta  \n",
    "\n",
    "#============ BFs based on logspline fit ===========================\n",
    "library(polspline) # this package can be installed from within R\n",
    "fit.posterior = logspline(delta.posterior)\n",
    "\n",
    "# 95% confidence interval:\n",
    "x0 = qlogspline(0.025,fit.posterior)\n",
    "x1 = qlogspline(0.975,fit.posterior)\n",
    "\n",
    "posterior = dlogspline(0, fit.posterior) # this gives the pdf at point delta = 0\n",
    "prior     = dcauchy(0)                   # height of order--restricted prior at delta = 0\n",
    "BF01      = posterior/prior\n",
    "BF01"
   ]
  },
  {
   "cell_type": "code",
   "execution_count": 8,
   "metadata": {
    "collapsed": false
   },
   "outputs": [
    {
     "data": {
      "image/png": "[encoded data removed]"
     },
     "metadata": {},
     "output_type": "display_data"
    }
   ],
   "source": [
    "#============ Plot Prior and Posterior  ===========================\n",
    "par(cex.main = 1.5, mar = c(5, 6, 4, 5) + 0.1, mgp = c(3.5, 1, 0), cex.lab = 1.5,\n",
    "    font.lab = 2, cex.axis = 1.3, bty = \"n\", las=1)\n",
    "xlow  = -3\n",
    "xhigh = 3\n",
    "yhigh = 4\n",
    "Nbreaks = 80\n",
    "y       = hist(delta.posterior, Nbreaks, plot=F)\n",
    "plot(c(y$breaks, max(y$breaks)), c(0,y$density,0), type=\"S\", lwd=2, lty=2,\n",
    "     xlim=c(xlow,xhigh), ylim=c(0,yhigh), xlab=\" \", ylab=\"Density\", axes=F) \n",
    "axis(1, at = c(-4,-3,-2,-1,0,1,2,3,4), lab=c(\"-4\",\"-3\",\"-2\",\"-1\",\"0\", \"1\", \"2\", \"3\", \"4\"))\n",
    "axis(2)\n",
    "mtext(expression(delta), side=1, line = 2.8, cex=2)\n",
    "#now bring in log spline density estimation:\n",
    "par(new=T)\n",
    "plot(fit.posterior, ylim=c(0,yhigh), xlim=c(xlow,xhigh), lty=1, lwd=1, axes=F)\n",
    "points(0, dlogspline(0, fit.posterior),pch=19, cex=2)\n",
    "# plot the prior:\n",
    "par(new=T)\n",
    "plot ( function( x ) dcauchy( x, 0, 1 ), xlow, xhigh, ylim=c(0,yhigh), xlim=c(xlow,xhigh), lwd=2, lty=1, ylab=\" \", xlab = \" \", axes=F) \n",
    "axis(1, at = c(-4,-3,-2,-1,0,1,2,3,4), lab=c(\"-4\",\"-3\",\"-2\",\"-1\",\"0\", \"1\", \"2\", \"3\", \"4\"))\n",
    "axis(2)\n",
    "points(0, dcauchy(0), pch=19, cex=2)"
   ]
  },
  {
   "cell_type": "code",
   "execution_count": null,
   "metadata": {
    "collapsed": true
   },
   "outputs": [],
   "source": []
  }
 ],
 "metadata": {
  "kernelspec": {
   "display_name": "R",
   "language": "R",
   "name": "ir"
  },
  "language_info": {
   "codemirror_mode": "r",
   "file_extension": ".r",
   "mimetype": "text/x-r-source",
   "name": "R",
   "pygments_lexer": "r",
   "version": "3.1.3"
  }
 },
 "nbformat": 4,
 "nbformat_minor": 0
}
