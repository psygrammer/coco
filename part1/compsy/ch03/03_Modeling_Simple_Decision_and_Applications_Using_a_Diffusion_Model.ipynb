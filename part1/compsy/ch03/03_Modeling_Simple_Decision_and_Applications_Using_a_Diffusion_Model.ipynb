{
 "cells": [
  {
   "cell_type": "markdown",
   "metadata": {},
   "source": [
    "# 3. Modeling Simple Decisions and Applications Using a Diffusion Model"
   ]
  },
  {
   "cell_type": "markdown",
   "metadata": {},
   "source": [
    "* 싸이그래머 인지모델링 스터디 교재 [1]\n",
    "* 김무성"
   ]
  },
  {
   "cell_type": "markdown",
   "metadata": {},
   "source": [
    "# Contents"
   ]
  },
  {
   "cell_type": "markdown",
   "metadata": {},
   "source": [
    "* Abstract\n",
    "* Diffusion Models for Rapid Decisions\n",
    "* Variants of the Standard Two-Choice Task\n",
    "* Optimality\n",
    "* Domains of Application \n",
    "* Situations in Which the Standard Model Fails\n",
    "* Competing Two-Choice Models\n",
    "* Conclusions    "
   ]
  },
  {
   "cell_type": "markdown",
   "metadata": {},
   "source": [
    "# Abstract"
   ]
  },
  {
   "cell_type": "markdown",
   "metadata": {},
   "source": [
    "* The <font color=\"red\">diffusion model</font> is one of the major <font color=\"red\">sequential-sampling models</font> for \n",
    "    - <font color=\"red\">two-choice decision-making</font> and \n",
    "    - <font color=\"red\">choice response time</font> in psychology. \n",
    "* The model conceives of decision-making \n",
    "    - <font color=\"red\">as a process</font> \n",
    "    - in which <font color=\"red\">noisy evidence is accumulated</font> \n",
    "    - until one of two response criteria is reached and \n",
    "    - the associated response is made. \n",
    "* The criteria represent \n",
    "    - the <font color=\"red\">amount of evidence</font> needed to make each decision and \n",
    "    - reflect the decision maker’s \n",
    "        - <font color=\"red\">response biases</font> and \n",
    "        - <font color=\"red\">speed-accuracy trade-off</font> settings. \n",
    "* In this chapter we examine the application of the diffusion model in a variety of different settings. \n",
    "* We \n",
    "    - discuss the <font color=\"red\">optimality of the model</font> and \n",
    "    - review its applications to a number of <font color=\"red\">cognitive tasks</font>, including\n",
    "        - <font color=\"red\">perception</font>,\n",
    "        - <font color=\"red\">memory</font>, and \n",
    "        - <font color=\"red\">language</font> tasks. \n",
    "* We also consider \n",
    "    - its applications to <font color=\"red\">normal and special</font> populations, \n",
    "    - to the cognitive foundations of <font color=\"red\">individual differences</font>, \n",
    "    - to <font color=\"red\">value-based decisions</font>, and \n",
    "    - its role in understanding the <font color=\"red\">neural basis of decision-making</font>."
   ]
  },
  {
   "cell_type": "markdown",
   "metadata": {},
   "source": [
    "# KeyWords"
   ]
  },
  {
   "cell_type": "markdown",
   "metadata": {},
   "source": [
    "* diffusion model \n",
    "* sequential-sampling \n",
    "* drift rate, choice \n",
    "* decision time\n",
    "* accuracy\n",
    "* confidence \n",
    "* perceptual decision\n",
    "* memory decision\n",
    "* lexical decision"
   ]
  },
  {
   "cell_type": "markdown",
   "metadata": {},
   "source": [
    "# Diffusion Models for Rapid Decisions"
   ]
  },
  {
   "cell_type": "markdown",
   "metadata": {},
   "source": [
    "* EXPRESSION FOR ACCURACY AND RT DISTRIBUTIONS"
   ]
  },
  {
   "cell_type": "markdown",
   "metadata": {},
   "source": [
    "* Over the last 30 or 40 years, there has been a steady development of models for <font color=\"red\">simple decision making</font> that <font color=\"red\">deal with both</font> the <font color=\"red\">accuracy</font> of decisions and the <font color=\"red\">time taken</font> to make them.\n",
    "    - The models <font color=\"red\">assume</font> that <font color=\"red\">decisions</font> are made by <font color=\"red\">accumulating noisy information</font> to <font color=\"red\">decision criteria</font>, one criterion for each possible choice.\n",
    "    - The models successfully <font color=\"red\">account for the probability</font> that <font color=\"red\">each choice</font> is made and the response time (RT) distributions for correct responses and errors.\n",
    "    - The <font color=\"red\">most frequent applications</font> of these models have been to <font color=\"red\">tasks that require two-choice decisions that are made reasonably quickly, typically with mean RTs less than 1.0–2.0 s</font>\n",
    "* <font color=\"red\">An important feature of human decision-making</font> is that the processing system is <font color=\"red\">very flexible</font> because humans can switch tasks, stimulus dimensions, and output modalities very quickly, from one trial to the next.\n",
    "* The same decision mechanism might operate for all these tasks or the mechanism might be <font color=\"red\">task</font> and <font color=\"red\">modality specific</font>.\n",
    "* For <font color=\"red\">two-choice tasks</font>\n",
    "    - the assumption usually made is that <font color=\"red\">all decision-related</font> information, \n",
    "    - that is, all the <font color=\"red\">information that comes from</font> a stimulus or memory, \n",
    "    - is <font color=\"red\">collapsed</font> onto a single variable, called <font color=\"red\">drift rate</font>, \n",
    "    - that characterizes the <font color=\"red\">discriminative</font> or <font color=\"red\">preference</font> information in the stimulus.\n",
    "* In this chapter, we focus on one model of the class of <font color=\"red\">sequential sampling models of evidence accumulation</font>, the <font color=\"red\">diffusion model</font> (Ratcliff, 1978; Ratcliff & McKoon, 2008; Smith, 2000).\n",
    "* A <font color=\"red\">comparison of the diffusion model</font> with other sequential-sampling models, such as\n",
    "    - the Poisson counter model (Townsend & Ashby, 1983), \n",
    "    - the Vickers accumulator model (Smith & Vickers, 1988; Vickers, 1970), and \n",
    "    - the leaky competing accumulator model (Usher & McClelland, 2001) can be found in Ratcliff and Smith (2004)"
   ]
  },
  {
   "cell_type": "markdown",
   "metadata": {},
   "source": [
    "<img src=\"figures/fig3.1.png\" width=600 />"
   ]
  },
  {
   "cell_type": "markdown",
   "metadata": {},
   "source": [
    "<img src=\"figures/fig3.2.png\" width=600 />"
   ]
  },
  {
   "cell_type": "markdown",
   "metadata": {},
   "source": [
    "<img src=\"figures/fig3.3.png\" width=600 />"
   ]
  },
  {
   "cell_type": "markdown",
   "metadata": {},
   "source": [
    "<img src=\"figures/fig3.4.png\" width=600 />"
   ]
  },
  {
   "cell_type": "markdown",
   "metadata": {},
   "source": [
    "## EXPRESSION FOR ACCURACY AND RT DISTRIBUTIONS"
   ]
  },
  {
   "cell_type": "markdown",
   "metadata": {},
   "source": [
    "<img src=\"figures/eq3.1.png\" width=600 />"
   ]
  },
  {
   "cell_type": "markdown",
   "metadata": {},
   "source": [
    "<img src=\"figures/eq3.2.png\" width=600 />"
   ]
  },
  {
   "cell_type": "markdown",
   "metadata": {},
   "source": [
    "<img src=\"figures/eq3.3.png\" width=600 />"
   ]
  },
  {
   "cell_type": "markdown",
   "metadata": {},
   "source": [
    "<img src=\"figures/fig3.5-1.png\" width=600 />"
   ]
  },
  {
   "cell_type": "markdown",
   "metadata": {},
   "source": [
    "<img src=\"figures/fig3.5-2.png\" width=600 />"
   ]
  },
  {
   "cell_type": "markdown",
   "metadata": {},
   "source": [
    "# Variants of the Standard Two-Choice Task"
   ]
  },
  {
   "cell_type": "markdown",
   "metadata": {},
   "source": [
    "* RESPONSE SIGNAL AND DEADLINE TASKS\n",
    "* MEYER, IRWIN, OSMAN, & KOUNIOS, (1988) PARTIAL INFORMATION PARADIGM\n",
    "* TIME-VARYING PROCESSING\n",
    "* GO/NOGO TASK"
   ]
  },
  {
   "cell_type": "markdown",
   "metadata": {},
   "source": [
    "## RESPONSE SIGNAL AND DEADLINE TASKS"
   ]
  },
  {
   "cell_type": "markdown",
   "metadata": {},
   "source": [
    "<img src=\"figures/fig3.6-1.png\" width=600 />"
   ]
  },
  {
   "cell_type": "markdown",
   "metadata": {},
   "source": [
    "<img src=\"figures/fig3.6-2.png\" width=600 />"
   ]
  },
  {
   "cell_type": "markdown",
   "metadata": {},
   "source": [
    "<img src=\"figures/fig3.6-3.png\" width=600 />"
   ]
  },
  {
   "cell_type": "markdown",
   "metadata": {},
   "source": [
    "## MEYER, IRWIN, OSMAN, & KOUNIOS, (1988) PARTIAL INFORMATION PARADIGM"
   ]
  },
  {
   "cell_type": "markdown",
   "metadata": {},
   "source": [
    "<img src=\"figures/fig3.7.png\" width=600 />"
   ]
  },
  {
   "cell_type": "markdown",
   "metadata": {},
   "source": [
    "<img src=\"figures/eq3.4.png\" width=600 />"
   ]
  },
  {
   "cell_type": "markdown",
   "metadata": {},
   "source": [
    "## TIME-VARYING PROCESSING"
   ]
  },
  {
   "cell_type": "markdown",
   "metadata": {},
   "source": [
    "## GO/NOGO TASK"
   ]
  },
  {
   "cell_type": "markdown",
   "metadata": {},
   "source": [
    "# Optimality"
   ]
  },
  {
   "cell_type": "markdown",
   "metadata": {},
   "source": [
    "# Domains of Application"
   ]
  },
  {
   "cell_type": "markdown",
   "metadata": {},
   "source": [
    "* Perceptual Tasks\n",
    "* Recognition Memory\n",
    "* Lexical Decision\n",
    "* Semantic and Recognition Priming Effects\n",
    "* Value-Based Judgments\n",
    "* Aging\n",
    "* Individual Differences\n",
    "* Child Development\n",
    "* Clinical Applications\n",
    "* Manipulations of Homeostatic State"
   ]
  },
  {
   "cell_type": "markdown",
   "metadata": {},
   "source": [
    "## Perceptual Tasks"
   ]
  },
  {
   "cell_type": "markdown",
   "metadata": {},
   "source": [
    "## Recognition Memory"
   ]
  },
  {
   "cell_type": "markdown",
   "metadata": {},
   "source": [
    "## Lexical Decision"
   ]
  },
  {
   "cell_type": "markdown",
   "metadata": {},
   "source": [
    "## Semantic and Recognition Priming Effects"
   ]
  },
  {
   "cell_type": "markdown",
   "metadata": {},
   "source": [
    "## Value-Based Judgments"
   ]
  },
  {
   "cell_type": "markdown",
   "metadata": {},
   "source": [
    "## Aging"
   ]
  },
  {
   "cell_type": "markdown",
   "metadata": {},
   "source": [
    "## Individual Differences"
   ]
  },
  {
   "cell_type": "markdown",
   "metadata": {},
   "source": [
    "## Child Development"
   ]
  },
  {
   "cell_type": "markdown",
   "metadata": {},
   "source": [
    "## Clinical Applications"
   ]
  },
  {
   "cell_type": "markdown",
   "metadata": {},
   "source": [
    "## Manipulations of Homeostatic State"
   ]
  },
  {
   "cell_type": "markdown",
   "metadata": {},
   "source": [
    "# Situations in Which the Standard Model Fails"
   ]
  },
  {
   "cell_type": "markdown",
   "metadata": {},
   "source": [
    "# Competing Two-Choice Models"
   ]
  },
  {
   "cell_type": "markdown",
   "metadata": {},
   "source": [
    "* Multichoice Decision-Making and Confidence Judgments\n",
    "* One-Choice Decisions\n",
    "* Neuroscience\n",
    "    - MONKY NEUROPHYSIOLOGY\n",
    "* Human Neuroscience\n",
    "    - EEG SUPPORT FOR ACROSS-TRIAL VARIABILITY IN DRIFT RATE\n",
    "    - EEG SUPPORT FOT ACROSS-TRIAL VARIABILITY IN STARTING POINT\n",
    "    - STRUCTURAL MRI\n",
    "    - FMRI    "
   ]
  },
  {
   "cell_type": "markdown",
   "metadata": {},
   "source": [
    "<img src=\"figures/fig3.8.png\" width=600 />"
   ]
  },
  {
   "cell_type": "markdown",
   "metadata": {},
   "source": [
    "<img src=\"figures/eq3.5.png\" width=600 />"
   ]
  },
  {
   "cell_type": "markdown",
   "metadata": {},
   "source": [
    "## Multichoice Decision-Making and Confidence Judgments"
   ]
  },
  {
   "cell_type": "markdown",
   "metadata": {},
   "source": [
    "## One-Choice Decisions"
   ]
  },
  {
   "cell_type": "markdown",
   "metadata": {},
   "source": [
    "## Neuroscience"
   ]
  },
  {
   "cell_type": "markdown",
   "metadata": {},
   "source": [
    "### MONKY NEUROPHYSIOLOGY"
   ]
  },
  {
   "cell_type": "markdown",
   "metadata": {},
   "source": [
    "<img src=\"figures/fig3.9.png\" width=600 />"
   ]
  },
  {
   "cell_type": "markdown",
   "metadata": {},
   "source": [
    "<img src=\"figures/fig3.10.png\" width=600 />"
   ]
  },
  {
   "cell_type": "markdown",
   "metadata": {},
   "source": [
    "## Human Neuroscience"
   ]
  },
  {
   "cell_type": "markdown",
   "metadata": {},
   "source": [
    "### EEG SUPPORT FOR ACROSS-TRIAL VARIABILITY IN DRIFT RATE"
   ]
  },
  {
   "cell_type": "markdown",
   "metadata": {},
   "source": [
    "### EEG SUPPORT FOT ACROSS-TRIAL VARIABILITY IN STARTING POINT"
   ]
  },
  {
   "cell_type": "markdown",
   "metadata": {},
   "source": [
    "### STRUCTURAL MRI"
   ]
  },
  {
   "cell_type": "markdown",
   "metadata": {},
   "source": [
    "### FMRI"
   ]
  },
  {
   "cell_type": "markdown",
   "metadata": {},
   "source": [
    "# Conclusions"
   ]
  },
  {
   "cell_type": "markdown",
   "metadata": {},
   "source": [
    "# 참고자료"
   ]
  },
  {
   "cell_type": "markdown",
   "metadata": {},
   "source": [
    "* [1] The Oxford Handbook of Computational and Mathematical Psychology - http://www.amazon.com/Handbook-Computational-Mathematical-Psychology-Library/dp/0199957991"
   ]
  }
 ],
 "metadata": {
  "kernelspec": {
   "display_name": "Python 2",
   "language": "python",
   "name": "python2"
  },
  "language_info": {
   "codemirror_mode": {
    "name": "ipython",
    "version": 2
   },
   "file_extension": ".py",
   "mimetype": "text/x-python",
   "name": "python",
   "nbconvert_exporter": "python",
   "pygments_lexer": "ipython2",
   "version": "2.7.9"
  }
 },
 "nbformat": 4,
 "nbformat_minor": 0
}
