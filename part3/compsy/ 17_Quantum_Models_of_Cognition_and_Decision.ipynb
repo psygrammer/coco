{
 "cells": [
  {
   "cell_type": "markdown",
   "metadata": {},
   "source": [
    "# 17. Quantum Models of Cognition and Decision"
   ]
  },
  {
   "cell_type": "markdown",
   "metadata": {},
   "source": [
    "* 싸이그래머 / 인지모델링 : 파트3 - 수리심리학 [1]\n",
    "* 김무성"
   ]
  },
  {
   "cell_type": "markdown",
   "metadata": {},
   "source": [
    "# Contents\n",
    "* Reasons for a Quantum Approach to Cognition and Decision\n",
    "* Preliminary Concepts, Definitions, and Notations\n",
    "* Quantum Compared to Classical Probabilities\n",
    "* Application to Probability Judgment Errors\n",
    "* Quantum Dynamics\n",
    "* Application to Decision Making\n",
    "* Concluding Comments"
   ]
  },
  {
   "cell_type": "markdown",
   "metadata": {},
   "source": [
    "#### 참고자료\n",
    "* [2] Quantum Models of Cognition and Decision - http://www.slideshare.net/catarinapintomoreira/quantum-models-of-cognition-and-decision"
   ]
  },
  {
   "cell_type": "markdown",
   "metadata": {},
   "source": [
    "# Reasons for a Quantum Approach to Cognition and Decision\n",
    "* Judgments Are Based upon Indefinite and Uncertain Cognitive States\n",
    "* Judgments Create Rather Than Record a Cognitive State\n",
    "* Judgments Disturb Each Other Producing Order Effects\n",
    "* Judgments Do Not Always Obey Classical Logic"
   ]
  },
  {
   "cell_type": "markdown",
   "metadata": {},
   "source": [
    "# Preliminary Concepts, Definitions, and Notations"
   ]
  },
  {
   "cell_type": "markdown",
   "metadata": {},
   "source": [
    "# Quantum Compared to Classical Probabilities\n",
    "* Events\n",
    "* System State\n",
    "* State Revision\n",
    "* Commutativity\n",
    "* Violations of the Law of Total Probability"
   ]
  },
  {
   "cell_type": "markdown",
   "metadata": {},
   "source": [
    "# Application to Probability Judgment Errors"
   ]
  },
  {
   "cell_type": "markdown",
   "metadata": {},
   "source": [
    "# Quantum Dynamics\n",
    "* State Space\n",
    "* Initial State\n",
    "* State Transitions\n",
    "* Response Probabilities"
   ]
  },
  {
   "cell_type": "markdown",
   "metadata": {},
   "source": [
    "# Application to Decision Making\n",
    "* Two-Stage Gambling Paradigm\n",
    "* Markov Dynamic Model for Two-Stage Gambles\n",
    "* Quantum Dynamic Model for HW 0 Two-Stage Gambles\n",
    "* Model Comparisons"
   ]
  },
  {
   "cell_type": "markdown",
   "metadata": {},
   "source": [
    "# Concluding Comments"
   ]
  },
  {
   "cell_type": "markdown",
   "metadata": {},
   "source": [
    "# 참고자료\n",
    "* [1] The Oxford Handbook of Computational and Mathematical Psychology - http://www.amazon.com/Handbook-Computational-Mathematical-Psychology-Library/dp/0199957991\n",
    "* [2] Quantum Models of Cognition and Decision - http://www.slideshare.net/catarinapintomoreira/quantum-models-of-cognition-and-decision\n",
    "* [3] Quantum cognition (wikipedia) - https://en.wikipedia.org/wiki/Quantum_cognition\n",
    "* [3] An Introduction to Quantum Models of Cognition and Decision-making - http://www.slideshare.net/laboratoridalbasso/lecture-trueblood\n",
    "* [4] Modeling Human Judgments with Quantum Probability Theory - http://www.slideshare.net/laboratoridalbasso/workshop1-trueblood\n",
    "* [5] Dynamic Quantum Decision Models - http://www.slideshare.net/laboratoridalbasso/workshop2-trueblood\n",
    "* [6] Quantum Probabilities and Quantum-inspired Information Retrieval - http://www.slideshare.net/ifrommholz/quantum-probabilities-and-quantuminspired-information-retrieval"
   ]
  }
 ],
 "metadata": {
  "kernelspec": {
   "display_name": "Python 2",
   "language": "python",
   "name": "python2"
  },
  "language_info": {
   "codemirror_mode": {
    "name": "ipython",
    "version": 2
   },
   "file_extension": ".py",
   "mimetype": "text/x-python",
   "name": "python",
   "nbconvert_exporter": "python",
   "pygments_lexer": "ipython2",
   "version": "2.7.10"
  }
 },
 "nbformat": 4,
 "nbformat_minor": 0
}
