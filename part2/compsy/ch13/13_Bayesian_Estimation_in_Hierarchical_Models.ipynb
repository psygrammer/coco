{
 "cells": [
  {
   "cell_type": "markdown",
   "metadata": {},
   "source": [
    "# Chatper 13. Bayesian Estimation in Hierarchical Models"
   ]
  },
  {
   "cell_type": "markdown",
   "metadata": {},
   "source": [
    "* 싸이그래머 / 인지모델링 : 파트2 - 수리심리학 [1]\n",
    "* 김무성"
   ]
  },
  {
   "cell_type": "markdown",
   "metadata": {},
   "source": [
    "# Contents"
   ]
  },
  {
   "cell_type": "markdown",
   "metadata": {},
   "source": [
    "* The Ideas of Hierarchical Bayesian Estimation\n",
    "* Example: Shrinkage and Multiple Comparisons of Baseball Batting Abilities\n",
    "* Example: Clinical Individual Differences in Attention Allocation\n",
    "* Model Comparison as a Case of Estimation in Hierarchical Models\n",
    "* Conclusion"
   ]
  },
  {
   "cell_type": "markdown",
   "metadata": {},
   "source": [
    "# The Ideas of Hierarchical Bayesian Estimation"
   ]
  },
  {
   "cell_type": "markdown",
   "metadata": {},
   "source": [
    "* Hierarchical Models Have Parameters with Hierarchical Meaning\n",
    "* Advantages of the Bayesian Approach\n",
    "* Some Mathematic and Mechanics of Bayesian Estimation"
   ]
  },
  {
   "cell_type": "markdown",
   "metadata": {},
   "source": [
    "#### 참고\n",
    "* [2] Bayesian Estimation in MARK - http://warnercnr.colostate.edu/~gwhite/fw663/Bayesian%20Overview.ppt "
   ]
  },
  {
   "cell_type": "markdown",
   "metadata": {},
   "source": [
    "Bayesian estimation provides an entire distribution of credibility over the space of parameter values, not merely a single “best” value.\n",
    "* The distribution precisely captures our uncertainty about the parameter estimate. \n",
    "* The essence of Bayesian estimation is to formally describe how uncertainty changes when new data are taken into account."
   ]
  },
  {
   "cell_type": "markdown",
   "metadata": {},
   "source": [
    "<img src = \"https://github.com/psygrammer/bayesianR/raw/master/part1/ch01_02/figure/fig2.1.png\" width=600 />"
   ]
  },
  {
   "cell_type": "markdown",
   "metadata": {},
   "source": [
    "<img src=\"https://github.com/psygrammer/bayesianR/raw/master/part1/ch01_02/figure/fig2.2.png\" width=600 />"
   ]
  },
  {
   "cell_type": "markdown",
   "metadata": {},
   "source": [
    "<img src=\"https://github.com/psygrammer/bayesianR/raw/master/part1/ch01_02/figure/fig2.3.png\" width=600 />"
   ]
  },
  {
   "cell_type": "markdown",
   "metadata": {},
   "source": [
    "<img src=\"https://github.com/psygrammer/bayesianR/raw/master/part1/ch01_02/figure/fig2.4.png\" width=600 />"
   ]
  },
  {
   "cell_type": "markdown",
   "metadata": {},
   "source": [
    "## Hierarchical Models Have Parameters with Hierarchical Meaning"
   ]
  },
  {
   "cell_type": "markdown",
   "metadata": {},
   "source": [
    "<img src=\"https://github.com/psygrammer/bayesianR/raw/master/part2/ch09/img/fig9.1.png\" />"
   ]
  },
  {
   "cell_type": "markdown",
   "metadata": {},
   "source": [
    "Examples"
   ]
  },
  {
   "cell_type": "markdown",
   "metadata": {},
   "source": [
    "* a type of trick coin, manufactured by the Acme Toy Company\n",
    "* childhood obesity - weights of children, different schools, different school lunch programs, unknown socioeconomic statuses. "
   ]
  },
  {
   "cell_type": "markdown",
   "metadata": {},
   "source": [
    "In general, a model is hierarchical if the probability of one parameter can be conceived to depend on the value of another parameter."
   ]
  },
  {
   "cell_type": "markdown",
   "metadata": {},
   "source": [
    "* Expressed formally, suppose the observed data, denoted D, are described by a model with two parameters, denoted α and β.\n",
    "* likelihood - p(D|α,β)\n",
    "* prior - p(α,β)\n",
    "* p(D|α,β)p(α,β) \n",
    "    - --> hierarchical \n",
    "        - p(D|α,β)p(α,β) = p(D|α)p(α|β)p(β)"
   ]
  },
  {
   "cell_type": "markdown",
   "metadata": {},
   "source": [
    "One of the primary applications of hierarchical models is describing data from individuals within groups."
   ]
  },
  {
   "cell_type": "markdown",
   "metadata": {},
   "source": [
    "* individual-level\n",
    "* group-level\n",
    "* The individual- level and group-level parameters are estimated simultaneously. "
   ]
  },
  {
   "cell_type": "markdown",
   "metadata": {},
   "source": [
    "## Advantages of the Bayesian Approach"
   ]
  },
  {
   "cell_type": "markdown",
   "metadata": {},
   "source": [
    "* Bayesian methods provide tremendous flexibility in designing models that are appropriate for describing the data at hand, and Bayesian methods provide a complete representation of parameter uncertainty (i.e., the posterior distribution) that can be directly interpreted."
   ]
  },
  {
   "cell_type": "markdown",
   "metadata": {},
   "source": [
    "* In a frequentist approach, although it may be possible to find a maximum-likelihood estimate (MLE) of parameter values in a hierarchical nonlinear model, the subsequent task of interpreting the uncertainty of the MLE can be very difficult."
   ]
  },
  {
   "cell_type": "markdown",
   "metadata": {},
   "source": [
    "## Some Mathematics and Mechanics of Bayesian Estimation"
   ]
  },
  {
   "cell_type": "markdown",
   "metadata": {},
   "source": [
    "<img src=\"figures/cap13.1.png\" width=600 />"
   ]
  },
  {
   "cell_type": "markdown",
   "metadata": {},
   "source": [
    "* In some simple situations, the mathematical form of the posterior distribution can be analytically derived.\n",
    "* A large class of algorithms for generating a representative random sample from a distribution is called Markov chain Monte Carlo (MCMC) methods."
   ]
  },
  {
   "cell_type": "markdown",
   "metadata": {
    "collapsed": true
   },
   "source": [
    "# Example: Shrinkage and Multiple Comparisons of Baseball Batting Abilities"
   ]
  },
  {
   "cell_type": "markdown",
   "metadata": {},
   "source": [
    "* The Data\n",
    "* The Descriptive Model with Its Meaningful Parameters\n",
    "* Results: Interpreting the Posterior Distribution\n",
    "* Shrinkage and Multiple Comparisons"
   ]
  },
  {
   "cell_type": "markdown",
   "metadata": {},
   "source": [
    "#### 참고\n",
    "* [3] baseball terms -  http://www.howbaseballworks.com/Fielding.htm\n",
    "* [4] Chapter 9. Hierarchical Models -  https://github.com/psygrammer/bayesianR/blob/master/part2/ch09/ch09_HierarchicalModels.md\n"
   ]
  },
  {
   "cell_type": "markdown",
   "metadata": {},
   "source": [
    "An important goal for enthusiasts of baseball is estimating each player’s ability to bat the ball."
   ]
  },
  {
   "cell_type": "markdown",
   "metadata": {},
   "source": [
    "There are nine players in the field at once, who specialize in different positions. "
   ]
  },
  {
   "cell_type": "markdown",
   "metadata": {},
   "source": [
    "Therefore, based on the structure of the game, we know that players with different primary positions are likely to have different batting abilities."
   ]
  },
  {
   "cell_type": "markdown",
   "metadata": {},
   "source": [
    "## The Data"
   ]
  },
  {
   "cell_type": "markdown",
   "metadata": {},
   "source": [
    "* The data consist of records from \n",
    "    - 948 players \n",
    "    - in the 2012 regular season of Major League Baseball \n",
    "    - who had at least one at-bat.2 \n",
    "    - For player i, \n",
    "        - we have his number of opportunities at bat, ABi , \n",
    "        - his number of hits Hi, and \n",
    "        - his primary position when in the field pp(i). \n",
    "* In the data, there were \n",
    "    - 324 pitchers \n",
    "         - with a median of 4.0 at-bats, \n",
    "    - 103 catchers \n",
    "        - with a median of 170.0 at-bats, and \n",
    "    - 60 right fielders \n",
    "        - with a median of 340.5 at-bats, \n",
    "    - along with 461 players in six other positions."
   ]
  },
  {
   "cell_type": "markdown",
   "metadata": {},
   "source": [
    "## The Descriptive Model with Its Meaningful Parameters"
   ]
  },
  {
   "cell_type": "markdown",
   "metadata": {},
   "source": [
    "#### 참고\n",
    "* [5] 베타 분포 - https://ko.wikipedia.org/wiki/%EB%B2%A0%ED%83%80_%EB%B6%84%ED%8F%AC\n",
    "* [6] 감마 분포 - https://ko.wikipedia.org/wiki/%EA%B0%90%EB%A7%88_%EB%B6%84%ED%8F%AC\n",
    "* [7] Digging into the Dirichlet Distribution by Max Sklar - http://www.slideshare.net/g33ktalk/machine-learning-meetup-12182013\n",
    "* [8] PATTERN RECOGNITION AND MACHINE LEARNING / CHAPTER 2: PROBABILITY DISTRIBUTIONS - http://research.microsoft.com/en-us/um/people/cmbishop/PRML/slides/prml-slides-2.ppt\n",
    "* [9] Conjugate families of distributions -  http://halweb.uc3m.es/esp/Personal/personas/mwiper/docencia/English/PhD_Bayesian_Statistics/ch3_2009.pdf"
   ]
  },
  {
   "cell_type": "markdown",
   "metadata": {},
   "source": [
    "* We want to estimate, for each player, his underlying probability θi of hitting the ball when at bat. \n",
    "* The primary data to inform our estimate of θi are \n",
    "    - the player’s number of hits, Hi, and \n",
    "    - his number of opportunities at bat, ABi.\n",
    "* But the estimate will also be informed by \n",
    "    - our knowledge of the player’s primary position, pp(i), and \n",
    "    - by the data from all the other players (i.e., their hits, at- bats, and positions). \n",
    "* For example, \n",
    "    - if we know that player i is a pitcher, \n",
    "    - and we know that pitchers tend to have θ values around 0.13 (because of all the other data), \n",
    "    - then our estimate of θi should be anchored near 0.13 and \n",
    "    - adjusted by the specific hits and at-bats of the individual player."
   ]
  },
  {
   "cell_type": "markdown",
   "metadata": {},
   "source": [
    "We will construct a hierarchical model that\n",
    "    - rationally shares information \n",
    "        - across players within positions,and \n",
    "        - across positions within all major league players"
   ]
  },
  {
   "cell_type": "markdown",
   "metadata": {},
   "source": [
    "<img src=\"figures/cap13.2.png\" width=600 />"
   ]
  },
  {
   "cell_type": "markdown",
   "metadata": {},
   "source": [
    "* We denote the ith player’s underlying probability of getting a hit as θi.\n",
    "    - Then the number of hits Hi out of ABi at-bats is a random draw from a binomial distribution that has success rate θi, as illustrated at the bottom of Figure 13.1.\n",
    "    - The arrow pointing to Hi is labeled with a “∼” symbol to indicate that the number of hits is a random variable distributed as a binomial distribution.\n",
    "* To formally express our prior belief that \n",
    "    - different primary positions emphasize \n",
    "        - different skills and hence have \n",
    "        - different batting abilities, \n",
    "            - we assume that the player abilities θi come from\n",
    "                - distributions specific to each position. \n",
    "* We model the distribution of θi’s for a position as a beta distribution,\n",
    "    - which is a natural distribution for describing values that fall between zero and one, and is often used in this sort of application\n",
    "    - The mean of the beta distribution for primary position pp is denoted μpp, and \n",
    "    - the narrowness of the distribution is denoted κpp.\n",
    "    - The value of μpp represents the typical batting ability of players in primary position pp,\n",
    "    - and the value of κpp represents how tightly clustered the abilities are across players in primary position pp."
   ]
  },
  {
   "cell_type": "markdown",
   "metadata": {},
   "source": [
    "There are 970 parameters in the model alto- gether: 948 individual θi , plus μpp , κpp for each of nine primary positions, plus μμ, κμ across positions, plus sκ and rκ. The Bayesian analysis yields credible combinations of the parameters in the 970-dimensional joint parameter space."
   ]
  },
  {
   "cell_type": "markdown",
   "metadata": {},
   "source": [
    "## Results: Interpreting the Posterior Distribution"
   ]
  },
  {
   "cell_type": "markdown",
   "metadata": {},
   "source": [
    "* check of robustness against changes in top-level prior constants\n",
    "* comparisons of positions\n",
    "* comparisons of individual players"
   ]
  },
  {
   "cell_type": "markdown",
   "metadata": {},
   "source": [
    "#### 참고\n",
    "* [10] 베이지안 가설검정(1) - 신용구간과 ROPE - http://egloos.zum.com/posterior/v/9634717\n",
    "* [11] Chapter 13 - Goals, Power, and Sample Size - http://nbviewer.ipython.org/github/psygrammer/bayesianR/blob/master/part3/ch13/CHAPTER_13_GoalsPowerandSampleSize.ipynb"
   ]
  },
  {
   "cell_type": "markdown",
   "metadata": {},
   "source": [
    "#### MCMC\n",
    "* We used MCMC chains with total saved length of 15,000 after adaptation of 1,000 steps and burn- in of 1,000 steps, using 3 parallel chains called from the runjags package (Denwood, 2013), thinned by 30 merely to keep a modest file size for the saved chain.\n",
    "\n",
    "#### posterior\n",
    "* The diagnostics (see Box 1) assured us that the chains were adequate to provide an accurate and high-resolution representation of the posterior distribution. \n",
    "\n",
    "#### ESS\n",
    "* The effective sample size (ESS) for all the reported parameters and differences exceeded 6,000, with nearly all exceeding 10,000.\n"
   ]
  },
  {
   "cell_type": "markdown",
   "metadata": {},
   "source": [
    "### check of robustness against changes in top-level prior constants"
   ]
  },
  {
   "cell_type": "markdown",
   "metadata": {},
   "source": [
    "* Because we wanted the top-level prior distribution to be noncommittal and have minimal influence on the posterior distribution, we checked whether the choice of prior had any notable effect on the posterior.\n",
    "* We conducted the analysis with different constants in the top-level gamma distri- butions, to check whether they had any notable influence on the resulting posterior distribution.\n",
    "    - Whether all gamma distributions used shape and rate constants of 0.1 and 0.1, or 0.001 and 0.001, the results were essentially identical. The results reported here are for gamma constants of 0.001 and 0.001."
   ]
  },
  {
   "cell_type": "markdown",
   "metadata": {},
   "source": [
    "### comparisons of positions"
   ]
  },
  {
   "cell_type": "markdown",
   "metadata": {},
   "source": [
    "<img src=\"figures/cap13.3.png\" width=600 />"
   ]
  },
  {
   "cell_type": "markdown",
   "metadata": {},
   "source": [
    "<img src=\"figures/cap13.4.png\" width=600 />"
   ]
  },
  {
   "cell_type": "markdown",
   "metadata": {},
   "source": [
    "### comparisons of individual players"
   ]
  },
  {
   "cell_type": "markdown",
   "metadata": {},
   "source": [
    "<img src=\"figures/cap13.5.png\" width=600 />"
   ]
  },
  {
   "cell_type": "markdown",
   "metadata": {},
   "source": [
    "<img src=\"figures/cap13.6.png\" width=600 />"
   ]
  },
  {
   "cell_type": "markdown",
   "metadata": {},
   "source": [
    "<img src=\"figures/cap13.7.png\" width=600 />"
   ]
  },
  {
   "cell_type": "markdown",
   "metadata": {},
   "source": [
    "<img src=\"figures/cap13.8.png\" width=600 />"
   ]
  },
  {
   "cell_type": "markdown",
   "metadata": {},
   "source": [
    "## Shrinkage and Multiple Comparisons"
   ]
  },
  {
   "cell_type": "markdown",
   "metadata": {},
   "source": [
    "# Example: Clinical Individual Differences in Attention Allocation"
   ]
  },
  {
   "cell_type": "markdown",
   "metadata": {},
   "source": [
    "* The Data\n",
    "* The Descriptive Model with Its Meaningful Parameters\n",
    "* Results: Interpreting the Posterior Distribution"
   ]
  },
  {
   "cell_type": "markdown",
   "metadata": {},
   "source": [
    "<img src=\"figures/cap13.9.png\" width=600 />"
   ]
  },
  {
   "cell_type": "markdown",
   "metadata": {},
   "source": [
    "## The Data"
   ]
  },
  {
   "cell_type": "markdown",
   "metadata": {},
   "source": [
    "## The Descriptive Model with Its Meaningful Parameters"
   ]
  },
  {
   "cell_type": "markdown",
   "metadata": {},
   "source": [
    "* hierarchical structure"
   ]
  },
  {
   "cell_type": "markdown",
   "metadata": {},
   "source": [
    "<img src=\"figures/cap13.10.png\" width=600 />"
   ]
  },
  {
   "cell_type": "markdown",
   "metadata": {},
   "source": [
    "<img src=\"figures/cap13.11.png\" width=600 />"
   ]
  },
  {
   "cell_type": "markdown",
   "metadata": {},
   "source": [
    "<img src=\"figures/cap13.12.png\" width=600 />"
   ]
  },
  {
   "cell_type": "markdown",
   "metadata": {},
   "source": [
    "### hierarchical structure"
   ]
  },
  {
   "cell_type": "markdown",
   "metadata": {},
   "source": [
    "## Results: Interpreting the Posterior Distribution"
   ]
  },
  {
   "cell_type": "markdown",
   "metadata": {},
   "source": [
    "* check of robustness against changes in top-level prior constants\n",
    "* comparison across groups of attention to body size\n",
    "* comparisons across individual women’s attention to body size"
   ]
  },
  {
   "cell_type": "markdown",
   "metadata": {},
   "source": [
    "### check of robustness against changes in top-level prior constants"
   ]
  },
  {
   "cell_type": "markdown",
   "metadata": {},
   "source": [
    "<img src=\"figures/cap13.13.png\" width=600 />"
   ]
  },
  {
   "cell_type": "markdown",
   "metadata": {},
   "source": [
    "<img src=\"figures/cap13.14.png\" width=600 />"
   ]
  },
  {
   "cell_type": "markdown",
   "metadata": {},
   "source": [
    "### comparison across groups of attention to body size"
   ]
  },
  {
   "cell_type": "markdown",
   "metadata": {},
   "source": [
    "<img src=\"figures/cap13.15.png\" width=600 />"
   ]
  },
  {
   "cell_type": "markdown",
   "metadata": {},
   "source": [
    "<img src=\"figures/cap13.16.png\" width=600 />"
   ]
  },
  {
   "cell_type": "markdown",
   "metadata": {},
   "source": [
    "### comparisons across individual women’s attention to body size"
   ]
  },
  {
   "cell_type": "markdown",
   "metadata": {},
   "source": [
    "<img src=\"figures/cap13.17.png\" width=600 />"
   ]
  },
  {
   "cell_type": "markdown",
   "metadata": {},
   "source": [
    "# Model Comparison as a Case of Estimation in Hierarchical Models"
   ]
  },
  {
   "cell_type": "markdown",
   "metadata": {},
   "source": [
    "<img src=\"figures/cap13.18.png\" width=600 />"
   ]
  },
  {
   "cell_type": "markdown",
   "metadata": {},
   "source": [
    "# Conclusion"
   ]
  },
  {
   "cell_type": "markdown",
   "metadata": {},
   "source": [
    "# 참고자료"
   ]
  },
  {
   "cell_type": "markdown",
   "metadata": {},
   "source": [
    "* [1] The Oxford Handbook of Computational and Mathematical Psychology - http://www.amazon.com/Handbook-Computational-Mathematical-Psychology-Library/dp/0199957991\n",
    "* [2] Bayesian Estimation in MARK - http://warnercnr.colostate.edu/~gwhite/fw663/Bayesian%20Overview.ppt \n",
    "* [3] baseball terms -  http://www.howbaseballworks.com/Fielding.htm\n",
    "* [4] Chapter 9. Hierarchical Models -  https://github.com/psygrammer/bayesianR/blob/master/part2/ch09/ch09_HierarchicalModels.md\n",
    "* [5] 베타 분포 - https://ko.wikipedia.org/wiki/%EB%B2%A0%ED%83%80_%EB%B6%84%ED%8F%AC\n",
    "* [6] 감마 분포 - https://ko.wikipedia.org/wiki/%EA%B0%90%EB%A7%88_%EB%B6%84%ED%8F%AC\n",
    "* [7] Digging into the Dirichlet Distribution by Max Sklar - http://www.slideshare.net/g33ktalk/machine-learning-meetup-12182013\n",
    "* [8] PATTERN RECOGNITION AND MACHINE LEARNING / CHAPTER 2: PROBABILITY DISTRIBUTIONS - http://research.microsoft.com/en-us/um/people/cmbishop/PRML/slides/prml-slides-2.ppt\n",
    "* [9] Conjugate families of distributions -  http://halweb.uc3m.es/esp/Personal/personas/mwiper/docencia/English/PhD_Bayesian_Statistics/ch3_2009.pdf\n",
    "* [10] 베이지안 가설검정(1) - 신용구간과 ROPE - http://egloos.zum.com/posterior/v/9634717\n",
    "* [11] Chapter 13 - Goals, Power, and Sample Size - http://nbviewer.ipython.org/github/psygrammer/bayesianR/blob/master/part3/ch13/CHAPTER_13_GoalsPowerandSampleSize.ipynb"
   ]
  }
 ],
 "metadata": {
  "kernelspec": {
   "display_name": "Python 2",
   "language": "python",
   "name": "python2"
  },
  "language_info": {
   "codemirror_mode": {
    "name": "ipython",
    "version": 2
   },
   "file_extension": ".py",
   "mimetype": "text/x-python",
   "name": "python",
   "nbconvert_exporter": "python",
   "pygments_lexer": "ipython2",
   "version": "2.7.10"
  }
 },
 "nbformat": 4,
 "nbformat_minor": 0
}
